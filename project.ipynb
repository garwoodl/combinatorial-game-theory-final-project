{
 "cells": [
  {
   "cell_type": "code",
   "execution_count": 7,
   "metadata": {},
   "outputs": [],
   "source": [
    "from agents import Agent, RandomAgent, HumanInput, EndAgent, RLAgent\n",
    "from states import GameState, TOAD, FROG, BLANK\n",
    "from game import run_game_loop, simulate_many_games, plot_losses\n",
    "\n",
    "import random as rand\n",
    "import numpy as np\n",
    "import torch.nn as nn\n",
    "import torch.optim as optim\n",
    "import torch\n",
    "import matplotlib.pyplot as plt\n",
    "import time\n"
   ]
  },
  {
   "cell_type": "code",
   "execution_count": 8,
   "metadata": {},
   "outputs": [],
   "source": [
    "initial_position = [TOAD] * 2 + [BLANK] * 10 + [FROG] * 2\n",
    "G = GameState(initial_position, starting_player=TOAD)"
   ]
  },
  {
   "cell_type": "code",
   "execution_count": 9,
   "metadata": {},
   "outputs": [],
   "source": [
    "rl_agent = RLAgent(G, TOAD, batch_size=100)\n",
    "random_agent = RandomAgent(G, FROG)"
   ]
  },
  {
   "cell_type": "code",
   "execution_count": 10,
   "metadata": {},
   "outputs": [
    {
     "name": "stdout",
     "output_type": "stream",
     "text": [
      "Training 0.0% complete...\n",
      "Training 0.8% complete...\n",
      "Training 1.6% complete...\n",
      "Training 2.4% complete...\n",
      "Training 3.2% complete...\n",
      "Training 4.0% complete...\n",
      "Training 4.8% complete...\n",
      "Training 5.6% complete...\n",
      "Training 6.4% complete...\n",
      "Training 7.2% complete...\n",
      "Training 8.0% complete...\n",
      "Training 8.8% complete...\n",
      "Training 9.6% complete...\n",
      "Training 10.4% complete...\n",
      "Training 11.2% complete...\n",
      "Training 12.0% complete...\n",
      "Training 12.8% complete...\n",
      "Training 13.6% complete...\n",
      "Training 14.4% complete...\n",
      "Training 15.2% complete...\n",
      "Training 16.0% complete...\n",
      "Training 16.8% complete...\n",
      "Training 17.6% complete...\n",
      "Training 18.4% complete...\n",
      "Training 19.2% complete...\n",
      "Training 20.0% complete...\n",
      "Training 20.8% complete...\n",
      "Training 21.6% complete...\n",
      "Training 22.4% complete...\n",
      "Training 23.2% complete...\n",
      "Training 24.0% complete...\n",
      "Training 24.8% complete...\n",
      "Training 25.6% complete...\n",
      "Training 26.4% complete...\n",
      "Training 27.2% complete...\n",
      "Training 28.0% complete...\n",
      "Training 28.8% complete...\n",
      "Training 29.6% complete...\n",
      "Training 30.4% complete...\n",
      "Training 31.2% complete...\n",
      "Training 32.0% complete...\n",
      "Training 32.8% complete...\n",
      "Training 33.6% complete...\n",
      "Training 34.4% complete...\n",
      "Training 35.2% complete...\n",
      "Training 36.0% complete...\n",
      "Training 36.8% complete...\n",
      "Training 37.6% complete...\n",
      "Training 38.4% complete...\n",
      "Training 39.2% complete...\n",
      "Training 40.0% complete...\n",
      "Training 40.8% complete...\n",
      "Training 41.6% complete...\n",
      "Training 42.4% complete...\n",
      "Training 43.2% complete...\n",
      "Training 44.0% complete...\n",
      "Training 44.8% complete...\n",
      "Training 45.6% complete...\n",
      "Training 46.4% complete...\n",
      "Training 47.2% complete...\n",
      "Training 48.0% complete...\n",
      "Training 48.8% complete...\n",
      "Training 49.6% complete...\n",
      "Training 50.4% complete...\n",
      "Training 51.2% complete...\n",
      "Training 52.0% complete...\n",
      "Training 52.8% complete...\n",
      "Training 53.6% complete...\n",
      "Training 54.4% complete...\n",
      "Training 55.2% complete...\n",
      "Training 56.0% complete...\n",
      "Training 56.8% complete...\n",
      "Training 57.6% complete...\n",
      "Training 58.4% complete...\n",
      "Training 59.2% complete...\n",
      "Training 60.0% complete...\n",
      "Training 60.8% complete...\n",
      "Training 61.6% complete...\n",
      "Training 62.4% complete...\n",
      "Training 63.2% complete...\n",
      "Training 64.0% complete...\n",
      "Training 64.8% complete...\n",
      "Training 65.6% complete...\n",
      "Training 66.4% complete...\n",
      "Training 67.2% complete...\n",
      "Training 68.0% complete...\n",
      "Training 68.8% complete...\n",
      "Training 69.6% complete...\n",
      "Training 70.4% complete...\n",
      "Training 71.2% complete...\n",
      "Training 72.0% complete...\n",
      "Training 72.8% complete...\n",
      "Training 73.6% complete...\n",
      "Training 74.4% complete...\n",
      "Training 75.2% complete...\n",
      "Training 76.0% complete...\n",
      "Training 76.8% complete...\n",
      "Training 77.6% complete...\n",
      "Training 78.4% complete...\n",
      "Training 79.2% complete...\n",
      "Training 80.0% complete...\n",
      "Training 80.8% complete...\n",
      "Training 81.6% complete...\n",
      "Training 82.4% complete...\n",
      "Training 83.2% complete...\n",
      "Training 84.0% complete...\n",
      "Training 84.8% complete...\n",
      "Training 85.6% complete...\n",
      "Training 86.4% complete...\n",
      "Training 87.2% complete...\n",
      "Training 88.0% complete...\n",
      "Training 88.8% complete...\n",
      "Training 89.6% complete...\n",
      "Training 90.4% complete...\n",
      "Training 91.2% complete...\n",
      "Training 92.0% complete...\n",
      "Training 92.8% complete...\n",
      "Training 93.6% complete...\n",
      "Training 94.4% complete...\n",
      "Training 95.2% complete...\n",
      "Training 96.0% complete...\n",
      "Training 96.8% complete...\n",
      "Training 97.6% complete...\n",
      "Training 98.4% complete...\n",
      "Training 99.2% complete...\n"
     ]
    },
    {
     "data": {
      "image/png": "[encoded data removed]",
      "text/plain": [
       "<Figure size 1000x500 with 1 Axes>"
      ]
     },
     "metadata": {},
     "output_type": "display_data"
    }
   ],
   "source": [
    "losses = rl_agent.train(opponent=random_agent, num_episodes=25000, start_epsilon=0.5, end_epsilon=0)\n",
    "plot_losses(losses)"
   ]
  },
  {
   "cell_type": "code",
   "execution_count": 11,
   "metadata": {},
   "outputs": [
    {
     "name": "stdout",
     "output_type": "stream",
     "text": [
      "Simulation took 6.67386 seconds\n",
      "Toads won 610 games (61.0%)\n",
      "Frogs won 390 games (39.0%)\n"
     ]
    },
    {
     "data": {
      "image/png": "[encoded data removed]",
      "text/plain": [
       "<Figure size 640x480 with 1 Axes>"
      ]
     },
     "metadata": {},
     "output_type": "display_data"
    }
   ],
   "source": [
    "H = GameState(initial_position)\n",
    "num_games = 1000\n",
    "starting_player = 'mix'\n",
    "tic = time.time()\n",
    "results = simulate_many_games(num_games, H, rl_agent, random_agent,\n",
    "                                starting_player=starting_player, verbose=False)\n",
    "toc = time.time()\n",
    "print(f'Simulation took {round(toc - tic, 5)} seconds')\n",
    "\n",
    "# Count the number of wins for each player\n",
    "t_wins = np.sum(results == TOAD)\n",
    "f_wins = np.sum(results == FROG)\n",
    "print(f\"Toads won {t_wins} games ({round(t_wins / num_games * 100, 4)}%)\")\n",
    "print(f\"Frogs won {f_wins} games ({round(f_wins / num_games * 100, 4)}%)\")\n",
    "\n",
    "# Plotting the results\n",
    "plt.bar([f'Toad ({rl_agent.agent_name})', f'Frog ({random_agent.agent_name})'], [t_wins, f_wins], color=['blue', 'red'])\n",
    "plt.xlabel('Player')\n",
    "plt.ylabel('Number of Wins')\n",
    "plt.title(f'Distribution of Wins ({starting_player} playing first)')\n",
    "plt.show()"
   ]
  },
  {
   "cell_type": "code",
   "execution_count": 27,
   "metadata": {},
   "outputs": [
    {
     "name": "stdout",
     "output_type": "stream",
     "text": [
      "Initializing game between rl as Toads and random as Frogs...\n",
      "|T|T| | | | | | | | | | |F|F|\n",
      "rl makes move 1\n",
      "|T| |T| | | | | | | | | |F|F|\n",
      "random makes move 1\n",
      "|T| |T| | | | | | | | |F| |F|\n",
      "rl makes move 1\n",
      "|T| | |T| | | | | | | |F| |F|\n",
      "random makes move 2\n",
      "|T| | |T| | | | | | | |F|F| |\n",
      "rl makes move 1\n",
      "|T| | | |T| | | | | | |F|F| |\n",
      "random makes move 1\n",
      "|T| | | |T| | | | | |F| |F| |\n",
      "rl makes move 1\n",
      "|T| | | | |T| | | | |F| |F| |\n",
      "random makes move 1\n",
      "|T| | | | |T| | | |F| | |F| |\n",
      "rl makes move 1\n",
      "|T| | | | | |T| | |F| | |F| |\n",
      "random makes move 1\n",
      "|T| | | | | |T| |F| | | |F| |\n",
      "rl makes move 1\n",
      "|T| | | | | | |T|F| | | |F| |\n",
      "random makes move 2\n",
      "|T| | | | | | |T|F| | |F| | |\n",
      "rl makes move 2\n",
      "| |T| | | | | |T|F| | |F| | |\n",
      "random makes move 1\n",
      "| |T| | | | |F|T| | | |F| | |\n",
      "rl makes move 2\n",
      "| | |T| | | |F|T| | | |F| | |\n",
      "random makes move 1\n",
      "| | |T| | |F| |T| | | |F| | |\n",
      "rl makes move 2\n",
      "| | | |T| |F| |T| | | |F| | |\n",
      "random makes move 2\n",
      "| | | |T| |F| |T| | |F| | | |\n",
      "rl makes move 2\n",
      "| | | | |T|F| |T| | |F| | | |\n",
      "random makes move 1\n",
      "| | | |F|T| | |T| | |F| | | |\n",
      "rl makes move 1\n",
      "| | | |F|T| | | |T| |F| | | |\n",
      "random makes move 2\n",
      "| | | |F|T| | | |T|F| | | | |\n",
      "rl makes move 2\n",
      "| | | |F| |T| | |T|F| | | | |\n",
      "random makes move 2\n",
      "| | | |F| |T| |F|T| | | | | |\n",
      "rl makes move 1\n",
      "| | | |F| |T| |F| |T| | | | |\n",
      "random makes move 2\n",
      "| | | |F| |T|F| | |T| | | | |\n",
      "rl makes move 1\n",
      "| | | |F| |T|F| | | |T| | | |\n",
      "random makes move 1\n",
      "| | |F| | |T|F| | | |T| | | |\n",
      "rl makes move 1\n",
      "| | |F| | |T|F| | | | |T| | |\n",
      "random makes move 2\n",
      "| | |F| |F|T| | | | | |T| | |\n",
      "rl makes move 2\n",
      "| | |F| |F| |T| | | | |T| | |\n",
      "random makes move 2\n",
      "| | |F|F| | |T| | | | |T| | |\n",
      "rl makes move 1\n",
      "| | |F|F| | |T| | | | | |T| |\n",
      "random makes move 1\n",
      "| |F| |F| | |T| | | | | |T| |\n",
      "rl makes move 2\n",
      "| |F| |F| | | |T| | | | |T| |\n",
      "random makes move 2\n",
      "| |F|F| | | | |T| | | | |T| |\n",
      "rl makes move 2\n",
      "| |F|F| | | | | |T| | | |T| |\n",
      "random makes move 1\n",
      "|F| |F| | | | | |T| | | |T| |\n",
      "rl makes move 2\n",
      "|F| |F| | | | | | |T| | |T| |\n",
      "random makes move 2\n",
      "|F|F| | | | | | | |T| | |T| |\n",
      "rl makes move 1\n",
      "|F|F| | | | | | | |T| | | |T|\n",
      "rl playing as Toads wins in 41 moves!\n"
     ]
    },
    {
     "data": {
      "text/plain": [
       "True"
      ]
     },
     "execution_count": 27,
     "metadata": {},
     "output_type": "execute_result"
    }
   ],
   "source": [
    "run_game_loop(G, rl_agent, random_agent, verbose=True)"
   ]
  },
  {
   "cell_type": "markdown",
   "metadata": {},
   "source": [
    "# I play the trained agent"
   ]
  },
  {
   "cell_type": "code",
   "execution_count": 28,
   "metadata": {},
   "outputs": [
    {
     "name": "stdout",
     "output_type": "stream",
     "text": [
      "Initializing game between rl as Toads and logan as Frogs...\n",
      "|T|T| | | | | | | | | | |F|F|\n",
      "rl makes move 1\n",
      "|T| |T| | | | | | | | | |F|F|\n",
      "logan makes move 1\n",
      "|T| |T| | | | | | | | |F| |F|\n",
      "rl makes move 1\n",
      "|T| | |T| | | | | | | |F| |F|\n",
      "logan makes move 1\n",
      "|T| | |T| | | | | | |F| | |F|\n",
      "rl makes move 1\n",
      "|T| | | |T| | | | | |F| | |F|\n",
      "logan makes move 2\n",
      "|T| | | |T| | | | | |F| |F| |\n",
      "rl makes move 1\n",
      "|T| | | | |T| | | | |F| |F| |\n",
      "logan makes move 2\n",
      "|T| | | | |T| | | | |F|F| | |\n",
      "rl makes move 2\n",
      "| |T| | | |T| | | | |F|F| | |\n",
      "logan makes move 1\n",
      "| |T| | | |T| | | |F| |F| | |\n",
      "rl makes move 1\n",
      "| |T| | | | |T| | |F| |F| | |\n",
      "logan makes move 2\n",
      "| |T| | | | |T| | |F|F| | | |\n",
      "rl makes move 1\n",
      "| |T| | | | | |T| |F|F| | | |\n",
      "logan makes move 1\n",
      "| |T| | | | | |T|F| |F| | | |\n",
      "rl makes move 2\n",
      "| | |T| | | | |T|F| |F| | | |\n",
      "logan makes move 1\n",
      "| | |T| | | |F|T| | |F| | | |\n",
      "rl makes move 1\n",
      "| | |T| | | |F| |T| |F| | | |\n",
      "logan makes move 1\n",
      "| | |T| | |F| | |T| |F| | | |\n",
      "rl makes move 1\n",
      "| | |T| | |F| | | |T|F| | | |\n",
      "logan makes move 1\n",
      "| | |T| |F| | | | |T|F| | | |\n",
      "rl makes move 2\n",
      "| | | |T|F| | | | |T|F| | | |\n",
      "logan makes move 2\n",
      "| | | |T|F| | | |F|T| | | | |\n",
      "rl makes move 2\n",
      "| | | | |F|T| | |F|T| | | | |\n",
      "logan makes move 1\n",
      "| | | |F| |T| | |F|T| | | | |\n",
      "rl makes move 2\n",
      "| | | |F| | |T| |F|T| | | | |\n",
      "logan makes move 2\n",
      "| | | |F| | |T|F| |T| | | | |\n",
      "rl makes move 1\n",
      "| | | |F| | |T|F| | |T| | | |\n",
      "logan makes move 1\n",
      "| | |F| | | |T|F| | |T| | | |\n",
      "rl makes move 1\n",
      "| | |F| | | |T|F| | | |T| | |\n",
      "logan makes move 1\n",
      "| |F| | | | |T|F| | | |T| | |\n",
      "rl makes move 1\n",
      "| |F| | | | |T|F| | | | |T| |\n",
      "logan makes move 1\n",
      "|F| | | | | |T|F| | | | |T| |\n",
      "rl makes move 1\n",
      "|F| | | | | |T|F| | | | | |T|\n",
      "logan makes move 2\n",
      "|F| | | | |F|T| | | | | | |T|\n",
      "rl makes move 2\n",
      "|F| | | | |F| |T| | | | | |T|\n",
      "logan makes move 2\n",
      "|F| | | |F| | |T| | | | | |T|\n",
      "rl makes move 2\n",
      "|F| | | |F| | | |T| | | | |T|\n",
      "logan makes move 2\n",
      "|F| | |F| | | | |T| | | | |T|\n",
      "rl makes move 2\n",
      "|F| | |F| | | | | |T| | | |T|\n",
      "logan makes move 2\n",
      "|F| |F| | | | | | |T| | | |T|\n",
      "rl makes move 2\n",
      "|F| |F| | | | | | | |T| | |T|\n",
      "logan makes move 2\n",
      "|F|F| | | | | | | | |T| | |T|\n",
      "rl makes move 2\n",
      "|F|F| | | | | | | | | |T| |T|\n",
      "rl playing as Toads wins in 43 moves!\n"
     ]
    },
    {
     "data": {
      "text/plain": [
       "True"
      ]
     },
     "execution_count": 28,
     "metadata": {},
     "output_type": "execute_result"
    }
   ],
   "source": [
    "me = HumanInput(G, FROG, 'logan')\n",
    "run_game_loop(G, rl_agent, me, verbose=True)"
   ]
  },
  {
   "cell_type": "markdown",
   "metadata": {},
   "source": [
    "It beat me..."
   ]
  },
  {
   "cell_type": "markdown",
   "metadata": {},
   "source": [
    "# Train new models by playing the previously trained ones"
   ]
  },
  {
   "cell_type": "code",
   "execution_count": 29,
   "metadata": {},
   "outputs": [
    {
     "name": "stdout",
     "output_type": "stream",
     "text": [
      "Training 0.0% complete...\n",
      "Training 2.0% complete...\n",
      "Training 4.0% complete...\n",
      "Training 6.0% complete...\n",
      "Training 8.0% complete...\n",
      "Training 10.0% complete...\n",
      "Training 12.0% complete...\n",
      "Training 14.0% complete...\n",
      "Training 16.0% complete...\n",
      "Training 18.0% complete...\n",
      "Training 20.0% complete...\n",
      "Training 22.0% complete...\n",
      "Training 24.0% complete...\n",
      "Training 26.0% complete...\n",
      "Training 28.0% complete...\n",
      "Training 30.0% complete...\n",
      "Training 32.0% complete...\n",
      "Training 34.0% complete...\n",
      "Training 36.0% complete...\n",
      "Training 38.0% complete...\n",
      "Training 40.0% complete...\n",
      "Training 42.0% complete...\n",
      "Training 44.0% complete...\n",
      "Training 46.0% complete...\n",
      "Training 48.0% complete...\n",
      "Training 50.0% complete...\n",
      "Training 52.0% complete...\n",
      "Training 54.0% complete...\n",
      "Training 56.0% complete...\n",
      "Training 58.0% complete...\n",
      "Training 60.0% complete...\n",
      "Training 62.0% complete...\n",
      "Training 64.0% complete...\n",
      "Training 66.0% complete...\n",
      "Training 68.0% complete...\n",
      "Training 70.0% complete...\n",
      "Training 72.0% complete...\n",
      "Training 74.0% complete...\n",
      "Training 76.0% complete...\n",
      "Training 78.0% complete...\n",
      "Training 80.0% complete...\n",
      "Training 82.0% complete...\n",
      "Training 84.0% complete...\n",
      "Training 86.0% complete...\n",
      "Training 88.0% complete...\n",
      "Training 90.0% complete...\n",
      "Training 92.0% complete...\n",
      "Training 94.0% complete...\n",
      "Training 96.0% complete...\n",
      "Training 98.0% complete...\n"
     ]
    },
    {
     "data": {
      "image/png": "[encoded data removed]",
      "text/plain": [
       "<Figure size 1000x500 with 1 Axes>"
      ]
     },
     "metadata": {},
     "output_type": "display_data"
    }
   ],
   "source": [
    "rl_agent2 = RLAgent(G, FROG, batch_size=100)\n",
    "losses2 = rl_agent2.train(opponent=rl_agent, num_episodes=10000, start_epsilon=0.5, end_epsilon=0)\n",
    "plot_losses(losses2)\n"
   ]
  },
  {
   "cell_type": "code",
   "execution_count": 31,
   "metadata": {},
   "outputs": [
    {
     "name": "stdout",
     "output_type": "stream",
     "text": [
      "Toads won 500 games (50.0%)\n",
      "Frogs won 500 games (50.0%)\n"
     ]
    },
    {
     "data": {
      "image/png": "[encoded data removed]",
      "text/plain": [
       "<Figure size 640x480 with 1 Axes>"
      ]
     },
     "metadata": {},
     "output_type": "display_data"
    }
   ],
   "source": [
    "num_games = 1000\n",
    "starting_player = 'mix'\n",
    "results = simulate_many_games(num_games, H, rl_agent, rl_agent2,\n",
    "                                starting_player=starting_player, verbose=False)\n",
    "\n",
    "# Count the number of wins for each player\n",
    "t_wins = np.sum(results == TOAD)\n",
    "f_wins = np.sum(results == FROG)\n",
    "print(f\"Toads won {t_wins} games ({round(t_wins / num_games * 100, 4)}%)\")\n",
    "print(f\"Frogs won {f_wins} games ({round(f_wins / num_games * 100, 4)}%)\")\n",
    "\n",
    "# Plotting the results\n",
    "plt.bar([f'Toad ({rl_agent.agent_name})', f'Frog ({rl_agent2.agent_name})'], [t_wins, f_wins], color=['blue', 'red'])\n",
    "plt.xlabel('Player')\n",
    "plt.ylabel('Number of Wins')\n",
    "plt.title(f'Distribution of Wins ({starting_player} playing first)')\n",
    "plt.show()"
   ]
  },
  {
   "cell_type": "code",
   "execution_count": 54,
   "metadata": {},
   "outputs": [
    {
     "name": "stdout",
     "output_type": "stream",
     "text": [
      "True\n",
      "False\n"
     ]
    }
   ],
   "source": [
    "G2 = G.copy()\n",
    "G2.current_player = TOAD\n",
    "\n",
    "G3 = G.copy()\n",
    "G3.current_player = FROG\n",
    "\n",
    "print(run_game_loop(G2, rl_agent, rl_agent2, verbose=False))\n",
    "print(run_game_loop(G3, rl_agent, rl_agent2, verbose=False))"
   ]
  },
  {
   "cell_type": "code",
   "execution_count": 58,
   "metadata": {},
   "outputs": [
    {
     "ename": "TypeError",
     "evalue": "simulate_many_games() got an unexpected keyword argument 'plot'",
     "output_type": "error",
     "traceback": [
      "\u001b[1;31m---------------------------------------------------------------------------\u001b[0m",
      "\u001b[1;31mTypeError\u001b[0m                                 Traceback (most recent call last)",
      "Cell \u001b[1;32mIn[58], line 5\u001b[0m\n\u001b[0;32m      3\u001b[0m num_games \u001b[38;5;241m=\u001b[39m \u001b[38;5;241m1000\u001b[39m\n\u001b[0;32m      4\u001b[0m starting_player \u001b[38;5;241m=\u001b[39m \u001b[38;5;124m'\u001b[39m\u001b[38;5;124mmix\u001b[39m\u001b[38;5;124m'\u001b[39m\n\u001b[1;32m----> 5\u001b[0m results \u001b[38;5;241m=\u001b[39m \u001b[43msimulate_many_games\u001b[49m\u001b[43m(\u001b[49m\u001b[43mnum_games\u001b[49m\u001b[43m,\u001b[49m\u001b[43m \u001b[49m\u001b[43mH\u001b[49m\u001b[43m,\u001b[49m\u001b[43m \u001b[49m\u001b[43mrandom_toad\u001b[49m\u001b[43m,\u001b[49m\u001b[43m \u001b[49m\u001b[43mrl_agent2\u001b[49m\u001b[43m,\u001b[49m\n\u001b[0;32m      6\u001b[0m \u001b[43m                                \u001b[49m\u001b[43mstarting_player\u001b[49m\u001b[38;5;241;43m=\u001b[39;49m\u001b[43mstarting_player\u001b[49m\u001b[43m,\u001b[49m\u001b[43m \u001b[49m\u001b[43mverbose\u001b[49m\u001b[38;5;241;43m=\u001b[39;49m\u001b[38;5;28;43;01mFalse\u001b[39;49;00m\u001b[43m,\u001b[49m\u001b[43m \u001b[49m\u001b[43mplot\u001b[49m\u001b[38;5;241;43m=\u001b[39;49m\u001b[38;5;28;43;01mTrue\u001b[39;49;00m\u001b[43m)\u001b[49m\n\u001b[0;32m      8\u001b[0m \u001b[38;5;66;03m# # Count the number of wins for each player\u001b[39;00m\n\u001b[0;32m      9\u001b[0m \u001b[38;5;66;03m# t_wins = np.sum(results == TOAD)\u001b[39;00m\n\u001b[0;32m     10\u001b[0m \u001b[38;5;66;03m# f_wins = np.sum(results == FROG)\u001b[39;00m\n\u001b[1;32m   (...)\u001b[0m\n\u001b[0;32m     18\u001b[0m \u001b[38;5;66;03m# plt.title(f'Distribution of Wins ({starting_player} playing first)')\u001b[39;00m\n\u001b[0;32m     19\u001b[0m \u001b[38;5;66;03m# plt.show()\u001b[39;00m\n",
      "\u001b[1;31mTypeError\u001b[0m: simulate_many_games() got an unexpected keyword argument 'plot'"
     ]
    }
   ],
   "source": [
    "random_toad = RandomAgent(G, TOAD, 'random_toad')\n",
    "\n",
    "num_games = 1000\n",
    "starting_player = 'mix'\n",
    "results = simulate_many_games(num_games, H, random_toad, rl_agent2,\n",
    "                                starting_player=starting_player, verbose=False, plot=True)\n",
    "\n",
    "# # Count the number of wins for each player\n",
    "# t_wins = np.sum(results == TOAD)\n",
    "# f_wins = np.sum(results == FROG)\n",
    "# print(f\"Toads won {t_wins} games ({round(t_wins / num_games * 100, 4)}%)\")\n",
    "# print(f\"Frogs won {f_wins} games ({round(f_wins / num_games * 100, 4)}%)\")\n",
    "\n",
    "# # Plotting the results\n",
    "# plt.bar([f'Toad ({random_toad.agent_name})', f'Frog ({rl_agent2.agent_name})'], [t_wins, f_wins], color=['blue', 'red'])\n",
    "# plt.xlabel('Player')\n",
    "# plt.ylabel('Number of Wins')\n",
    "# plt.title(f'Distribution of Wins ({starting_player} playing first)')\n",
    "# plt.show()"
   ]
  },
  {
   "cell_type": "code",
   "execution_count": null,
   "metadata": {},
   "outputs": [],
   "source": []
  }
 ],
 "metadata": {
  "kernelspec": {
   "display_name": "Python 3",
   "language": "python",
   "name": "python3"
  },
  "language_info": {
   "codemirror_mode": {
    "name": "ipython",
    "version": 3
   },
   "file_extension": ".py",
   "mimetype": "text/x-python",
   "name": "python",
   "nbconvert_exporter": "python",
   "pygments_lexer": "ipython3",
   "version": "3.9.13"
  }
 },
 "nbformat": 4,
 "nbformat_minor": 2
}
